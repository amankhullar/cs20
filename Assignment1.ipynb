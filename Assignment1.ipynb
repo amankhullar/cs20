{
  "nbformat": 4,
  "nbformat_minor": 0,
  "metadata": {
    "colab": {
      "name": "Assignment1.ipynb",
      "version": "0.3.2",
      "provenance": [],
      "collapsed_sections": [
        "w53EnFo0DAPI",
        "rBh0jT5I5Tmp",
        "OedplCswMQrl"
      ],
      "include_colab_link": true
    },
    "kernelspec": {
      "name": "python3",
      "display_name": "Python 3"
    }
  },
  "cells": [
    {
      "cell_type": "markdown",
      "metadata": {
        "id": "view-in-github",
        "colab_type": "text"
      },
      "source": [
        "<a href=\"https://colab.research.google.com/github/amankhullar/cs20/blob/master/Assignment1.ipynb\" target=\"_parent\"><img src=\"https://colab.research.google.com/assets/colab-badge.svg\" alt=\"Open In Colab\"/></a>"
      ]
    },
    {
      "metadata": {
        "id": "vqr_p3mEyKG7",
        "colab_type": "text"
      },
      "cell_type": "markdown",
      "source": [
        "<center> <h1> CS20 Assignment 1 </h1> </center>\n",
        "## Problem 1: Op is all you need"
      ]
    },
    {
      "metadata": {
        "id": "nOhCzXVAyAqy",
        "colab_type": "code",
        "colab": {}
      },
      "cell_type": "code",
      "source": [
        "import numpy as np\n",
        "import os\n",
        "os.environ['TF_CPP_MIN_LOG_LEVL'] = '2'\n",
        "\n",
        "import tensorflow as tf\n"
      ],
      "execution_count": 0,
      "outputs": []
    },
    {
      "metadata": {
        "id": "JQ3Tq1rC-haq",
        "colab_type": "code",
        "outputId": "09472db7-3b18-4f89-b4ca-8f26e8d23ad0",
        "colab": {
          "base_uri": "https://localhost:8080/",
          "height": 34
        }
      },
      "cell_type": "code",
      "source": [
        "sess = tf.InteractiveSession()\n",
        "\n",
        "x = tf.random_uniform([])\n",
        "y = tf.random_uniform([])\n",
        "\n",
        "op = tf.cond(x > y, lambda : x + y, lambda : x - y)\n",
        "\n",
        "print(sess.run(op))"
      ],
      "execution_count": 0,
      "outputs": [
        {
          "output_type": "stream",
          "text": [
            "1.1196562\n"
          ],
          "name": "stdout"
        }
      ]
    },
    {
      "metadata": {
        "id": "1gAl0OujIZcy",
        "colab_type": "code",
        "outputId": "69f80e7b-73a1-4c97-ed2e-25a4a4685c09",
        "colab": {
          "base_uri": "https://localhost:8080/",
          "height": 34
        }
      },
      "cell_type": "code",
      "source": [
        "x = tf.random_uniform(shape = [], minval = -1, maxval = 1, name = \"x\")\n",
        "y = tf.random_uniform(shape = [], minval = -1, maxval = 1, name = \"y\")\n",
        "\n",
        "# Using a tf.Tensor as a Python 'bool' is not allowed\n",
        "# out = tf.zeros(shape = [1])\n",
        "\n",
        "# if tf.less(x, y):\n",
        "#     out = x + y\n",
        "# elif tf.greater(x, y):\n",
        "#     out = x - y\n",
        "# else:\n",
        "#     out = 0\n",
        "    \n",
        "def f1():\n",
        "    return x + y\n",
        "\n",
        "def f2():\n",
        "    return x - y\n",
        "\n",
        "def f3():\n",
        "    return tf.zeros(shape = [1])\n",
        "\n",
        "out = tf.case({tf.less(x, y) : f1, tf.greater(x, y) : f2}, default = f3, name = 'output', exclusive = True)\n",
        "print(sess.run(out))"
      ],
      "execution_count": 0,
      "outputs": [
        {
          "output_type": "stream",
          "text": [
            "0.27322483\n"
          ],
          "name": "stdout"
        }
      ]
    },
    {
      "metadata": {
        "id": "L9Bxa4-OK8Fq",
        "colab_type": "code",
        "outputId": "fb99d183-4322-4f4a-a3e7-95b905274ecd",
        "colab": {
          "base_uri": "https://localhost:8080/",
          "height": 51
        }
      },
      "cell_type": "code",
      "source": [
        "x = tf.constant([[0, -2, -1], [0, 1, 2]])\n",
        "y = tf.zeros_like(x)\n",
        "\n",
        "out = tf.equal(x, y, name = 'equal_output')\n",
        "\n",
        "print(sess.run(out))"
      ],
      "execution_count": 0,
      "outputs": [
        {
          "output_type": "stream",
          "text": [
            "[[ True False False]\n",
            " [ True False False]]\n"
          ],
          "name": "stdout"
        }
      ]
    },
    {
      "metadata": {
        "id": "4v-aBXgFXN6q",
        "colab_type": "code",
        "outputId": "985a1178-bb62-4352-db72-b4e2b81dffd5",
        "colab": {
          "base_uri": "https://localhost:8080/",
          "height": 170
        }
      },
      "cell_type": "code",
      "source": [
        "sess = tf.InteractiveSession()\n",
        "\n",
        "data = tf.constant([29.05088806,  27.61298943,  31.19073486,  29.35532951,\n",
        "                     30.97266006,  26.67541885,  38.08450317,  20.74983215,\n",
        "                     34.94445419,  34.45999146,  29.06485367,  36.01657104,\n",
        "                     27.88236427,  20.56035233,  30.20379066,  29.51215172,\n",
        "                     33.71149445,  28.59134293,  36.05556488,  28.66994858])\n",
        "\n",
        "out = tf.gather(data, tf.where(tf.greater(data, 30)))\n",
        "\n",
        "print(sess.run(out))"
      ],
      "execution_count": 0,
      "outputs": [
        {
          "output_type": "stream",
          "text": [
            "[[31.190735]\n",
            " [30.97266 ]\n",
            " [38.084503]\n",
            " [34.944454]\n",
            " [34.45999 ]\n",
            " [36.01657 ]\n",
            " [30.20379 ]\n",
            " [33.711494]\n",
            " [36.055565]]\n"
          ],
          "name": "stdout"
        }
      ]
    },
    {
      "metadata": {
        "id": "_u0teeS3Rwq5",
        "colab_type": "code",
        "outputId": "0015d7d6-d933-4fc8-fb56-eb84280c0344",
        "colab": {
          "base_uri": "https://localhost:8080/",
          "height": 119
        }
      },
      "cell_type": "code",
      "source": [
        "# Numpy method of creating the diagonal matrix\n",
        "\n",
        "# data = np.arange(1,7)\n",
        "# out = np.diag(data)\n",
        "\n",
        "# out_tf = tf.constant(out)\n",
        "\n",
        "# print(sess.run(out_tf))\n",
        "\n",
        "#Tensorflow method\n",
        "\n",
        "data = tf.range(start = 1, limit = 7, name = 'range')\n",
        "out = tf.linalg.diag(data, name = 'diagonal')\n",
        "\n",
        "print(sess.run(out))"
      ],
      "execution_count": 0,
      "outputs": [
        {
          "output_type": "stream",
          "text": [
            "[[1 0 0 0 0 0]\n",
            " [0 2 0 0 0 0]\n",
            " [0 0 3 0 0 0]\n",
            " [0 0 0 4 0 0]\n",
            " [0 0 0 0 5 0]\n",
            " [0 0 0 0 0 6]]\n"
          ],
          "name": "stdout"
        }
      ]
    },
    {
      "metadata": {
        "id": "dxSajqtAXKmN",
        "colab_type": "code",
        "outputId": "17a22d97-89de-4740-8590-92be303a1ac6",
        "colab": {
          "base_uri": "https://localhost:8080/",
          "height": 34
        }
      },
      "cell_type": "code",
      "source": [
        "data = tf.random_normal(shape = [10, 10], name = 'matrix')\n",
        "\n",
        "out = tf.matrix_determinant(data, name = 'determinant')\n",
        "\n",
        "print(sess.run(out))"
      ],
      "execution_count": 0,
      "outputs": [
        {
          "output_type": "stream",
          "text": [
            "-66.201225\n"
          ],
          "name": "stdout"
        }
      ]
    },
    {
      "metadata": {
        "id": "wSKrj871ZKo_",
        "colab_type": "code",
        "outputId": "9c496709-83c1-4988-806c-98f4a3c92c27",
        "colab": {
          "base_uri": "https://localhost:8080/",
          "height": 34
        }
      },
      "cell_type": "code",
      "source": [
        "x = tf.constant([5, 2, 3, 5, 10, 6, 2, 3, 4, 2, 1, 1, 0, 9])\n",
        "\n",
        "out, idx = tf.unique(x)\n",
        "\n",
        "print(sess.run(out))"
      ],
      "execution_count": 0,
      "outputs": [
        {
          "output_type": "stream",
          "text": [
            "[ 5  2  3 10  6  4  1  0  9]\n"
          ],
          "name": "stdout"
        }
      ]
    },
    {
      "metadata": {
        "id": "YYYVD65hrYwg",
        "colab_type": "code",
        "outputId": "defc6a5e-4fc9-43bb-87d5-8e745d54c3e3",
        "colab": {
          "base_uri": "https://localhost:8080/",
          "height": 34
        }
      },
      "cell_type": "code",
      "source": [
        "x = tf.random_normal(shape = [300], name = 'x')\n",
        "y = tf.random_normal(shape = [300], name = 'y')\n",
        "\n",
        "out = tf.cond(tf.reduce_mean(x - y) < 0, lambda : tf.losses.mean_squared_error(labels = x, predictions = y), lambda : tf.reduce_sum(tf.abs(x - y)))\n",
        "\n",
        "print(sess.run(out))"
      ],
      "execution_count": 0,
      "outputs": [
        {
          "output_type": "stream",
          "text": [
            "2.150824\n"
          ],
          "name": "stdout"
        }
      ]
    },
    {
      "metadata": {
        "id": "lACvEqfS4EWc",
        "colab_type": "text"
      },
      "cell_type": "markdown",
      "source": [
        "## Problem 2: Logistic Regression"
      ]
    },
    {
      "metadata": {
        "id": "amMJD4AnOj2L",
        "colab_type": "text"
      },
      "cell_type": "markdown",
      "source": [
        "### Utils"
      ]
    },
    {
      "metadata": {
        "id": "ROEOJYCIWOPH",
        "colab_type": "code",
        "colab": {}
      },
      "cell_type": "code",
      "source": [
        "import os\n",
        "import gzip\n",
        "import shutil\n",
        "import struct\n",
        "import urllib\n",
        "\n",
        "os.environ['TF_CPP_MIN_LOG_LEVEL']='2'\n",
        "\n",
        "from matplotlib import pyplot as plt\n",
        "import numpy as np\n",
        "import tensorflow as tf\n",
        "\n",
        "def huber_loss(labels, predictions, delta=14.0):\n",
        "    residual = tf.abs(labels - predictions)\n",
        "    def f1(): return 0.5 * tf.square(residual)\n",
        "    def f2(): return delta * residual - 0.5 * tf.square(delta)\n",
        "    return tf.cond(residual < delta, f1, f2)\n",
        "\n",
        "def safe_mkdir(path):\n",
        "    \"\"\" Create a directory if there isn't one already. \"\"\"\n",
        "    try:\n",
        "        os.mkdir(path)\n",
        "    except OSError:\n",
        "        pass\n",
        "\n",
        "def read_birth_life_data(filename):\n",
        "    \"\"\"\n",
        "    Read in birth_life_2010.txt and return:\n",
        "    data in the form of NumPy array\n",
        "    n_samples: number of samples\n",
        "    \"\"\"\n",
        "    text = open(filename, 'r').readlines()[1:]\n",
        "    data = [line[:-1].split('\\t') for line in text]\n",
        "    births = [float(line[1]) for line in data]\n",
        "    lifes = [float(line[2]) for line in data]\n",
        "    data = list(zip(births, lifes))\n",
        "    n_samples = len(data)\n",
        "    data = np.asarray(data, dtype=np.float32)\n",
        "    return data, n_samples\n",
        "\n",
        "def download_one_file(download_url, \n",
        "                    local_dest, \n",
        "                    expected_byte=None, \n",
        "                    unzip_and_remove=False):\n",
        "    \"\"\" \n",
        "    Download the file from download_url into local_dest\n",
        "    if the file doesn't already exists.\n",
        "    If expected_byte is provided, check if \n",
        "    the downloaded file has the same number of bytes.\n",
        "    If unzip_and_remove is True, unzip the file and remove the zip file\n",
        "    \"\"\"\n",
        "    if os.path.exists(local_dest) or os.path.exists(local_dest[:-3]):\n",
        "        print('%s already exists' %local_dest)\n",
        "    else:\n",
        "        print('Downloading %s' %download_url)\n",
        "        local_file, _ = urllib.request.urlretrieve(download_url, local_dest)\n",
        "        file_stat = os.stat(local_dest)\n",
        "        if expected_byte:\n",
        "            if file_stat.st_size == expected_byte:\n",
        "                print('Successfully downloaded %s' %local_dest)\n",
        "                if unzip_and_remove:\n",
        "                    with gzip.open(local_dest, 'rb') as f_in, open(local_dest[:-3],'wb') as f_out:\n",
        "                        shutil.copyfileobj(f_in, f_out)\n",
        "                    os.remove(local_dest)\n",
        "            else:\n",
        "                print('The downloaded file has unexpected number of bytes')\n",
        "\n",
        "def download_mnist(path):\n",
        "    \"\"\" \n",
        "    Download and unzip the dataset mnist if it's not already downloaded \n",
        "    Download from http://yann.lecun.com/exdb/mnist\n",
        "    \"\"\"\n",
        "    safe_mkdir(path)\n",
        "    url = 'http://yann.lecun.com/exdb/mnist'\n",
        "    filenames = ['train-images-idx3-ubyte.gz',\n",
        "                'train-labels-idx1-ubyte.gz',\n",
        "                't10k-images-idx3-ubyte.gz',\n",
        "                't10k-labels-idx1-ubyte.gz']\n",
        "    expected_bytes = [9912422, 28881, 1648877, 4542]\n",
        "\n",
        "    for filename, byte in zip(filenames, expected_bytes):\n",
        "        download_url = os.path.join(url, filename)\n",
        "        local_dest = os.path.join(path, filename)\n",
        "        download_one_file(download_url, local_dest, byte, True)\n",
        "\n",
        "def parse_data(path, dataset, flatten):\n",
        "    if dataset != 'train' and dataset != 't10k':\n",
        "        raise NameError('dataset must be train or t10k')\n",
        "\n",
        "    label_file = os.path.join(path, dataset + '-labels-idx1-ubyte')\n",
        "    with open(label_file, 'rb') as file:\n",
        "        _, num = struct.unpack(\">II\", file.read(8))\n",
        "        labels = np.fromfile(file, dtype=np.int8) #int8\n",
        "        new_labels = np.zeros((num, 10))\n",
        "        new_labels[np.arange(num), labels] = 1\n",
        "    \n",
        "    img_file = os.path.join(path, dataset + '-images-idx3-ubyte')\n",
        "    with open(img_file, 'rb') as file:\n",
        "        _, num, rows, cols = struct.unpack(\">IIII\", file.read(16))\n",
        "        imgs = np.fromfile(file, dtype=np.uint8).reshape(num, rows, cols) #uint8\n",
        "        imgs = imgs.astype(np.float32) / 255.0\n",
        "        if flatten:\n",
        "            imgs = imgs.reshape([num, -1])\n",
        "\n",
        "    return imgs, new_labels\n",
        "\n",
        "def read_mnist(path, flatten=True, num_train=55000):\n",
        "    \"\"\"\n",
        "    Read in the mnist dataset, given that the data is stored in path\n",
        "    Return two tuples of numpy arrays\n",
        "    ((train_imgs, train_labels), (test_imgs, test_labels))\n",
        "    \"\"\"\n",
        "    imgs, labels = parse_data(path, 'train', flatten)\n",
        "    indices = np.random.permutation(labels.shape[0])\n",
        "    train_idx, val_idx = indices[:num_train], indices[num_train:]\n",
        "    train_img, train_labels = imgs[train_idx, :], labels[train_idx, :]\n",
        "    val_img, val_labels = imgs[val_idx, :], labels[val_idx, :]\n",
        "    test = parse_data(path, 't10k', flatten)\n",
        "    return (train_img, train_labels), (val_img, val_labels), test\n",
        "\n",
        "def get_mnist_dataset(batch_size):\n",
        "    # Step 1: Read in data\n",
        "    mnist_folder = 'data/mnist'\n",
        "    download_mnist(mnist_folder)\n",
        "    train, val, test = read_mnist(mnist_folder, flatten=False)\n",
        "\n",
        "    # Step 2: Create datasets and iterator\n",
        "    train_data = tf.data.Dataset.from_tensor_slices(train)\n",
        "    train_data = train_data.shuffle(10000) # if you want to shuffle your data\n",
        "    train_data = train_data.batch(batch_size)\n",
        "\n",
        "    test_data = tf.data.Dataset.from_tensor_slices(test)\n",
        "    test_data = test_data.batch(batch_size)\n",
        "\n",
        "    return train_data, test_data\n",
        "    \n",
        "def show(image):\n",
        "    \"\"\"\n",
        "    Render a given numpy.uint8 2D array of pixel data.\n",
        "    \"\"\"\n",
        "    plt.imshow(image, cmap='gray')\n",
        "    plt.show()"
      ],
      "execution_count": 0,
      "outputs": []
    },
    {
      "metadata": {
        "id": "w53EnFo0DAPI",
        "colab_type": "text"
      },
      "cell_type": "markdown",
      "source": [
        "### Tensorboard for Colab"
      ]
    },
    {
      "metadata": {
        "id": "b9m36v4UDIRa",
        "colab_type": "code",
        "outputId": "e4c47abf-001f-41e6-8cef-1a397d6c7f7e",
        "colab": {
          "base_uri": "https://localhost:8080/",
          "height": 85
        }
      },
      "cell_type": "code",
      "source": [
        "from tensorboardcolab import TensorBoardColab, TensorBoardColabCallback\n",
        "tbc = TensorBoardColab()"
      ],
      "execution_count": 0,
      "outputs": [
        {
          "output_type": "stream",
          "text": [
            "Using TensorFlow backend.\n"
          ],
          "name": "stderr"
        },
        {
          "output_type": "stream",
          "text": [
            "Wait for 8 seconds...\n",
            "TensorBoard link:\n",
            "http://d5c26176.ngrok.io\n"
          ],
          "name": "stdout"
        }
      ]
    },
    {
      "metadata": {
        "id": "rBh0jT5I5Tmp",
        "colab_type": "text"
      },
      "cell_type": "markdown",
      "source": [
        "### Logistic Regression"
      ]
    },
    {
      "metadata": {
        "id": "uCl5x_az5N6B",
        "colab_type": "code",
        "outputId": "cfdc19f8-2bf7-486b-a484-9a67abfe95cb",
        "colab": {
          "base_uri": "https://localhost:8080/",
          "height": 629
        }
      },
      "cell_type": "code",
      "source": [
        "import os\n",
        "os.environ['TF_CPP_MIN_LOG_LEVEL'] = '2'\n",
        "\n",
        "import numpy as np\n",
        "import tensorflow as tf\n",
        "import time\n",
        "\n",
        "#Defining the hyperparameters\n",
        "\n",
        "learning_rate = 0.01\n",
        "batch_size = 128\n",
        "n_epochs = 30\n",
        "n_train = 60000\n",
        "n_test = 10000\n",
        "\n",
        "#Step 1: Read in data\n",
        "mnist_folder = 'data/mnist'\n",
        "download_mnist(mnist_folder)\n",
        "train, val, test = read_mnist(mnist_folder, flatten = True)\n",
        "\n",
        "#Step 2: Create datasets and iterator\n",
        "train_data = tf.data.Dataset.from_tensor_slices(train)\n",
        "train_data = train_data.shuffle(10000)\n",
        "train_data = train_data.batch(batch_size)\n",
        "\n",
        "test_data = tf.data.Dataset.from_tensor_slices(test)\n",
        "test_data = test_data.batch(batch_size)\n",
        "\n",
        "#Create one iterator and initialize it with different datasetsvim\n",
        "iterator = tf.data.Iterator.from_structure(train_data.output_types, train_data.output_shapes)\n",
        "img, label = iterator.get_next()\n",
        "\n",
        "train_init = iterator.make_initializer(train_data)\n",
        "test_init = iterator.make_initializer(test_data)\n",
        "\n",
        "#Step 3: create weights and bias\n",
        "w = tf.get_variable(name = 'weights', shape = [784, 10], initializer = tf.random_normal_initializer(mean = 0, stddev = 0.01))\n",
        "b = tf.get_variable(name = 'bias', shape = [1, 10], initializer = tf.zeros_initializer())\n",
        "\n",
        "#Step 4: build model\n",
        "logits = tf.matmul(img, w) + b\n",
        "\n",
        "#Step 5: define the loss function\n",
        "entropy = tf.nn.softmax_cross_entropy_with_logits_v2(labels = label, logits = logits, name = 'entropy')\n",
        "loss = tf.reduce_mean(entropy, name = 'loss')\n",
        "\n",
        "#Step 6: define training operation\n",
        "optimizer = tf.train.AdamOptimizer(learning_rate).minimize(loss)\n",
        "\n",
        "#Step 7: calculate accuracy with test set\n",
        "preds = tf.nn.softmax(logits)\n",
        "correct_preds = tf.equal(tf.argmax(preds,1), tf.argmax(label,1))\n",
        "accuracy = tf.reduce_sum(tf.cast(correct_preds, tf.float32))\n",
        "\n",
        "writer = tf.summary.FileWriter('./Graph/logreg', tf.get_default_graph())\n",
        "with tf.Session() as sess:\n",
        "    start_time = time.time()\n",
        "    sess.run(tf.global_variables_initializer())\n",
        "    \n",
        "    #train the model number of epochs times\n",
        "    for i in range(n_epochs):\n",
        "        sess.run(train_init)\n",
        "        total_loss = 0\n",
        "        n_batches = 0\n",
        "        try:\n",
        "            while True:\n",
        "                _, l = sess.run([optimizer, loss])\n",
        "                total_loss += l\n",
        "                n_batches += 1\n",
        "        except tf.errors.OutOfRangeError:\n",
        "            pass\n",
        "        print('Average loss epoch {0}: {1}'.format(i, total_loss/n_batches))\n",
        "    print('Toal time : {0} seconds'.format(time.time() - start_time))\n",
        "        \n",
        "    # test the model\n",
        "    sess.run(test_init)\t\t\t# drawing samples from test_data\n",
        "    total_correct_preds = 0\n",
        "    try:\n",
        "        while True:\n",
        "            accuracy_batch = sess.run(accuracy)\n",
        "            total_correct_preds += accuracy_batch\n",
        "    except tf.errors.OutOfRangeError:\n",
        "        pass\n",
        "\n",
        "    print('Accuracy {0}'.format(total_correct_preds/n_test))\n",
        "writer.close()"
      ],
      "execution_count": 0,
      "outputs": [
        {
          "output_type": "stream",
          "text": [
            "data/mnist/train-images-idx3-ubyte.gz already exists\n",
            "data/mnist/train-labels-idx1-ubyte.gz already exists\n",
            "data/mnist/t10k-images-idx3-ubyte.gz already exists\n",
            "data/mnist/t10k-labels-idx1-ubyte.gz already exists\n",
            "Average loss epoch 0: 0.36396381806495576\n",
            "Average loss epoch 1: 0.29472465308946233\n",
            "Average loss epoch 2: 0.283943564791319\n",
            "Average loss epoch 3: 0.2781646569107854\n",
            "Average loss epoch 4: 0.2736546872660171\n",
            "Average loss epoch 5: 0.2742128196670566\n",
            "Average loss epoch 6: 0.2704728376900041\n",
            "Average loss epoch 7: 0.2655832806298899\n",
            "Average loss epoch 8: 0.2627160980777685\n",
            "Average loss epoch 9: 0.263606508318768\n",
            "Average loss epoch 10: 0.26379387650725455\n",
            "Average loss epoch 11: 0.2616857203633286\n",
            "Average loss epoch 12: 0.26098569477366845\n",
            "Average loss epoch 13: 0.2592407028688941\n",
            "Average loss epoch 14: 0.2581491239022377\n",
            "Average loss epoch 15: 0.25816859088318295\n",
            "Average loss epoch 16: 0.25917671565399614\n",
            "Average loss epoch 17: 0.2572768713325955\n",
            "Average loss epoch 18: 0.2567378666511802\n",
            "Average loss epoch 19: 0.255411796271801\n",
            "Average loss epoch 20: 0.25680455617433373\n",
            "Average loss epoch 21: 0.2562983932709971\n",
            "Average loss epoch 22: 0.2537426912853884\n",
            "Average loss epoch 23: 0.25393253959888634\n",
            "Average loss epoch 24: 0.2514078017844017\n",
            "Average loss epoch 25: 0.2532364749111408\n",
            "Average loss epoch 26: 0.2547773734081623\n",
            "Average loss epoch 27: 0.25270022446679513\n",
            "Average loss epoch 28: 0.24949949711214664\n",
            "Average loss epoch 29: 0.2521747361435447\n",
            "Toal time : 24.108951807022095 seconds\n",
            "Accuracy 0.9183\n"
          ],
          "name": "stdout"
        }
      ]
    },
    {
      "metadata": {
        "id": "OedplCswMQrl",
        "colab_type": "text"
      },
      "cell_type": "markdown",
      "source": [
        "### Improved accuracy of Logistic Regression "
      ]
    },
    {
      "metadata": {
        "id": "gFTAwnsBKy2i",
        "colab_type": "code",
        "outputId": "4a9c23ca-a8b9-4bc8-fa38-315093085af0",
        "colab": {
          "base_uri": "https://localhost:8080/",
          "height": 969
        }
      },
      "cell_type": "code",
      "source": [
        "import numpy as np\n",
        "import os\n",
        "os.environ['TF_CPP_MIN_LOG_LEVEL'] = '2'\n",
        "\n",
        "import tensorflow as tf\n",
        "import time\n",
        "\n",
        "#Defining the hyperparameters\n",
        "\n",
        "learning_rate = 0.01\n",
        "batch_size = 128\n",
        "n_epochs = 50\n",
        "n_train = 60000\n",
        "n_test = 10000\n",
        "n_hidden = 500\n",
        "\n",
        "#Step 1: Read Data\n",
        "mnist_folder = 'data/mnist'\n",
        "download_mnist(mnist_folder)\n",
        "train, val, test = read_mnist(mnist_folder, flatten = True)\n",
        "\n",
        "#Step 2: Create datasets and iterator\n",
        "train_data = tf.data.Dataset.from_tensor_slices(train)\n",
        "train_data = train_data.shuffle(10000)\n",
        "train_data = train_data.batch(batch_size)\n",
        "\n",
        "test_data = tf.data.Dataset.from_tensor_slices(test)\n",
        "test_data = test_data.batch(batch_size)\n",
        "\n",
        "#Create one iterator and initialize it with different datasets\n",
        "iterator = tf.data.Iterator.from_structure(train_data.output_types, train_data.output_shapes)\n",
        "img, label = iterator.get_next()\n",
        "\n",
        "train_init = iterator.make_initializer(train_data)\n",
        "test_init = iterator.make_initializer(test_data)\n",
        "\n",
        "#Step 3: create weights and bias\n",
        "w1 = tf.get_variable(name = 'weights_1', shape = (784, n_hidden), initializer = tf.random_normal_initializer(mean = 0, stddev = 0.01))\n",
        "b1 = tf.get_variable(name = 'bias_1', shape = (1, n_hidden), initializer = tf.zeros_initializer())\n",
        "\n",
        "#Parameters for the hidden layer and the output layer\n",
        "w2 = tf.get_variable(name = 'weights_2', shape = (n_hidden, 10), initializer = tf.random_normal_initializer(mean = 0, stddev = 0.01))\n",
        "b2 = tf.get_variable(name = 'bias_2', shape = (1, 10), initializer = tf.zeros_initializer())\n",
        "\n",
        "#Step 4: build model\n",
        "z1 = tf.matmul(img, w1) + b1\n",
        "h1 = tf.nn.sigmoid(z1, name = 'sigmoid_layer')\n",
        "\n",
        "logits = tf.matmul(h1, w2) + b2\n",
        "\n",
        "#Step 5: define the loss function\n",
        "entropy = tf.nn.softmax_cross_entropy_with_logits_v2(labels = label, logits = logits, name = 'entropy')\n",
        "loss = tf.reduce_mean(entropy, name = 'loss')\n",
        "\n",
        "#Step 6: define the training operation\n",
        "optimizer = tf.train.AdamOptimizer(learning_rate).minimize(loss)\n",
        "\n",
        "#Step 7: calculate the accuracy with test set\n",
        "preds = tf.nn.softmax(logits)\n",
        "correct_preds = tf.equal(tf.argmax(preds, 1), tf.argmax(label, 1))\n",
        "accuracy = tf.reduce_sum(tf.cast(correct_preds, tf.float32))\n",
        "\n",
        "writer = tf.summary.FileWriter('./Graph/logreg_improved', tf.get_default_graph())\n",
        "\n",
        "with tf.Session() as sess:\n",
        "    start_time = time.time()\n",
        "    sess.run(tf.global_variables_initializer())\n",
        "\n",
        "    #train the model number of epochs times\n",
        "    for i in range(n_epochs):\n",
        "        sess.run(train_init)\n",
        "        total_loss = 0\n",
        "        n_batches = 0\n",
        "        try:\n",
        "            while True:\n",
        "                _, l = sess.run([optimizer, loss])\n",
        "                total_loss += l\n",
        "                n_batches += 1\n",
        "        except tf.errors.OutOfRangeError:\n",
        "            pass\n",
        "        print('Average loss epoch {0}: {1}'.format(i, total_loss/n_batches))\n",
        "    print('Total time : {0} seconds'.format(time.time() - start_time))\n",
        "\n",
        "    #test model\n",
        "    sess.run(test_init)\n",
        "    total_correct_preds = 0\n",
        "    try:\n",
        "        while True:\n",
        "            accuracy_batch = sess.run(accuracy)\n",
        "            total_correct_preds += accuracy_batch\n",
        "    except tf.errors.OutOfRangeError:\n",
        "        pass\n",
        "\n",
        "    print('Accuracy {0}'.format(total_correct_preds/ n_test))\n",
        "writer.close()"
      ],
      "execution_count": 0,
      "outputs": [
        {
          "output_type": "stream",
          "text": [
            "data/mnist/train-images-idx3-ubyte.gz already exists\n",
            "data/mnist/train-labels-idx1-ubyte.gz already exists\n",
            "data/mnist/t10k-images-idx3-ubyte.gz already exists\n",
            "data/mnist/t10k-labels-idx1-ubyte.gz already exists\n",
            "Average loss epoch 0: 0.34232790607006053\n",
            "Average loss epoch 1: 0.10143689684743105\n",
            "Average loss epoch 2: 0.0669986465231104\n",
            "Average loss epoch 3: 0.04679901247064388\n",
            "Average loss epoch 4: 0.03501995945630898\n",
            "Average loss epoch 5: 0.030108175212300792\n",
            "Average loss epoch 6: 0.02773205312672829\n",
            "Average loss epoch 7: 0.022330892543297606\n",
            "Average loss epoch 8: 0.023507892807165896\n",
            "Average loss epoch 9: 0.026051185270608946\n",
            "Average loss epoch 10: 0.024742556574786904\n",
            "Average loss epoch 11: 0.01712285785131741\n",
            "Average loss epoch 12: 0.020678994558794902\n",
            "Average loss epoch 13: 0.018964344293669645\n",
            "Average loss epoch 14: 0.017029577171494968\n",
            "Average loss epoch 15: 0.020649463424884152\n",
            "Average loss epoch 16: 0.014399091447608784\n",
            "Average loss epoch 17: 0.015060598406802624\n",
            "Average loss epoch 18: 0.017382756993242238\n",
            "Average loss epoch 19: 0.017661059578389288\n",
            "Average loss epoch 20: 0.01657960946918032\n",
            "Average loss epoch 21: 0.017733974407780996\n",
            "Average loss epoch 22: 0.014393781413495755\n",
            "Average loss epoch 23: 0.01858908149189056\n",
            "Average loss epoch 24: 0.01580297138268158\n",
            "Average loss epoch 25: 0.014014342520876685\n",
            "Average loss epoch 26: 0.017853651634860124\n",
            "Average loss epoch 27: 0.015239782631938713\n",
            "Average loss epoch 28: 0.013645787699191038\n",
            "Average loss epoch 29: 0.012786174151162498\n",
            "Average loss epoch 30: 0.013554522121617188\n",
            "Average loss epoch 31: 0.01809804423536725\n",
            "Average loss epoch 32: 0.020235980492945473\n",
            "Average loss epoch 33: 0.01959832671128784\n",
            "Average loss epoch 34: 0.014033310981045191\n",
            "Average loss epoch 35: 0.01429936490919296\n",
            "Average loss epoch 36: 0.011572857118343839\n",
            "Average loss epoch 37: 0.014833958061243784\n",
            "Average loss epoch 38: 0.011681466386414477\n",
            "Average loss epoch 39: 0.009088404193068505\n",
            "Average loss epoch 40: 0.015234384588732842\n",
            "Average loss epoch 41: 0.018673136236044906\n",
            "Average loss epoch 42: 0.019151071787882758\n",
            "Average loss epoch 43: 0.01445620569102175\n",
            "Average loss epoch 44: 0.009493021615460662\n",
            "Average loss epoch 45: 0.01146243851618174\n",
            "Average loss epoch 46: 0.012118932694825479\n",
            "Average loss epoch 47: 0.01927104592308286\n",
            "Average loss epoch 48: 0.017134293610818765\n",
            "Average loss epoch 49: 0.01058075224135379\n",
            "Total time : 177.23050379753113 seconds\n",
            "Accuracy 0.9759\n"
          ],
          "name": "stdout"
        }
      ]
    },
    {
      "metadata": {
        "id": "-dFbf8s9eltN",
        "colab_type": "text"
      },
      "cell_type": "markdown",
      "source": [
        "## Problem 3 : Word2Vec, Skip-Gram model"
      ]
    },
    {
      "metadata": {
        "id": "tvCzlM1aewL4",
        "colab_type": "text"
      },
      "cell_type": "markdown",
      "source": [
        "### Word2Vec_utils"
      ]
    },
    {
      "metadata": {
        "id": "ixVqr5nle7bv",
        "colab_type": "code",
        "colab": {}
      },
      "cell_type": "code",
      "source": [
        "from collections import Counter\n",
        "import random\n",
        "import os\n",
        "import sys\n",
        "sys.path.append('..')\n",
        "import zipfile\n",
        "\n",
        "import numpy as np\n",
        "from six.moves import urllib\n",
        "import tensorflow as tf\n",
        "\n",
        "\n",
        "def read_data(file_path):\n",
        "    \"\"\"Read data into a list of tokens\n",
        "    There should be 17,005,207 tokens\n",
        "    \"\"\"\n",
        "    \n",
        "    with zipfile.ZipFile(file_path) as f:\n",
        "        words = tf.compat.as_str(f.read(f.namelist()[0])).split() \n",
        "        return words\n",
        "    \n",
        "def build_vocab(words, vocab_size, visual_fld):\n",
        "    \"\"\" Build vocabulary of VOCAB_SIZE most frequent words and write it to\n",
        "    visualization/vocab.tsv\n",
        "    \"\"\"\n",
        "    safe_mkdir(visual_fld)\n",
        "    file = open(os.path.join(visual_fld, 'vocab.tsv'), 'w')\n",
        "    \n",
        "    dictionary = dict()\n",
        "    count = [('UNK', -1)]\n",
        "    index = 0\n",
        "    count.extend(Counter(words).most_common(vocab_size - 1))\n",
        "    \n",
        "    for word, _ in count:\n",
        "        dictionary[word] = index\n",
        "        index += 1\n",
        "        file.write(word + '\\n')\n",
        "    \n",
        "    index_dictionary = dict(zip(dictionary.values(), dictionary.keys()))\n",
        "    file.close()\n",
        "    return dictionary, index_dictionary\n",
        "\n",
        "def convert_words_to_index(words, dictionary):\n",
        "    \"\"\" Replace each word in the dataset with its index in the dictionary \"\"\"\n",
        "    return [dictionary[word] if word in dictionary else 0 for word in words]\n",
        "\n",
        "def generate_sample(index_words, context_window_size):\n",
        "    \"\"\" Form training pairs according to the skip-gram model. \"\"\"\n",
        "    for index, center in enumerate(index_words):\n",
        "        context = random.randint(1, context_window_size)\n",
        "        # get a random target before the center word\n",
        "        for target in index_words[max(0, index - context): index]:\n",
        "            yield center, target\n",
        "        # get a random target after the center wrod\n",
        "        for target in index_words[index + 1: index + context + 1]:\n",
        "            yield center, target\n",
        "\n",
        "def most_common_words(visual_fld, num_visualize):\n",
        "    \"\"\" create a list of num_visualize most frequent words to visualize on TensorBoard.\n",
        "    saved to visualization/vocab_[num_visualize].tsv\n",
        "    \"\"\"\n",
        "    words = open(os.path.join(visual_fld, 'vocab.tsv'), 'r').readlines()[:num_visualize]\n",
        "    words = [word for word in words]\n",
        "    file = open(os.path.join(visual_fld, 'vocab_' + str(num_visualize) + '.tsv'), 'w')\n",
        "    for word in words:\n",
        "        file.write(word)\n",
        "    file.close()\n",
        "\n",
        "def batch_gen(download_url, expected_byte, vocab_size, batch_size, \n",
        "                skip_window, visual_fld):\n",
        "    local_dest = 'data/text8.zip'\n",
        "    download_one_file(download_url, local_dest, expected_byte)\n",
        "    words = read_data(local_dest)\n",
        "    dictionary, _ = build_vocab(words, vocab_size, visual_fld)\n",
        "    index_words = convert_words_to_index(words, dictionary)\n",
        "    del words           # to save memory\n",
        "    single_gen = generate_sample(index_words, skip_window)\n",
        "    \n",
        "    while True:\n",
        "        center_batch = np.zeros(batch_size, dtype=np.int32)\n",
        "        target_batch = np.zeros([batch_size, 1])\n",
        "        for index in range(batch_size):\n",
        "            center_batch[index], target_batch[index] = next(single_gen)\n",
        "        yield center_batch, target_batch"
      ],
      "execution_count": 0,
      "outputs": []
    },
    {
      "metadata": {
        "id": "zGorA6VZhTaj",
        "colab_type": "text"
      },
      "cell_type": "markdown",
      "source": [
        "### Word2Vec"
      ]
    },
    {
      "metadata": {
        "id": "qvBv35ugE-3T",
        "colab_type": "text"
      },
      "cell_type": "markdown",
      "source": [
        "#### Helper functions for word2vec : process_data"
      ]
    },
    {
      "metadata": {
        "id": "JIYGVsbtBJVx",
        "colab_type": "code",
        "colab": {}
      },
      "cell_type": "code",
      "source": [
        "from __future__ import absolute_import\n",
        "from __future__ import division\n",
        "from __future__ import print_function\n",
        "\n",
        "from collections import Counter\n",
        "import random\n",
        "import os\n",
        "import sys\n",
        "sys.path.append('..')\n",
        "import zipfile\n",
        "\n",
        "import numpy as np\n",
        "from six.moves import urllib\n",
        "import tensorflow as tf\n",
        "\n",
        "\n",
        "# Parameters for downloading data\n",
        "DOWNLOAD_URL = 'http://mattmahoney.net/dc/'\n",
        "EXPECTED_BYTES = 31344016\n",
        "DATA_FOLDER = 'data/'\n",
        "FILE_NAME = 'text8.zip'\n",
        "\n",
        "def download(file_name, expected_bytes):\n",
        "    \"\"\" Download the dataset text8 if it's not already downloaded \"\"\"\n",
        "    file_path = DATA_FOLDER + file_name\n",
        "    if os.path.exists(file_path):\n",
        "        print(\"Dataset ready\")\n",
        "        return file_path\n",
        "    file_name, _ = urllib.request.urlretrieve(DOWNLOAD_URL + file_name, file_path)\n",
        "    file_stat = os.stat(file_path)\n",
        "    if file_stat.st_size == expected_bytes:\n",
        "        print('Successfully downloaded the file', file_name)\n",
        "    else:\n",
        "        raise Exception('File ' + file_name +\n",
        "                        ' might be corrupted. You should try downloading it with a browser.')\n",
        "    return file_path\n",
        "\n",
        "def read_data(file_path):\n",
        "    \"\"\" Read data into a list of tokens \n",
        "    There should be 17,005,207 tokens\n",
        "    \"\"\"\n",
        "    with zipfile.ZipFile(file_path) as f:\n",
        "        words = tf.compat.as_str(f.read(f.namelist()[0])).split() \n",
        "        # tf.compat.as_str() converts the input into the string\n",
        "    return words\n",
        "\n",
        "def build_vocab(words, vocab_size):\n",
        "    \"\"\" Build vocabulary of VOCAB_SIZE most frequent words \"\"\"\n",
        "    dictionary = dict()\n",
        "    count = [('UNK', -1)]\n",
        "    count.extend(Counter(words).most_common(vocab_size - 1))\n",
        "    index = 0\n",
        "    safe_mkdir('processed')\n",
        "    with open('processed/vocab_1000.tsv', \"w\") as f:\n",
        "        for word, _ in count:\n",
        "            dictionary[word] = index\n",
        "            if index < 1000:\n",
        "                f.write(word + \"\\n\")\n",
        "            index += 1\n",
        "    index_dictionary = dict(zip(dictionary.values(), dictionary.keys()))\n",
        "    return dictionary, index_dictionary\n",
        "\n",
        "def convert_words_to_index(words, dictionary):\n",
        "    \"\"\" Replace each word in the dataset with its index in the dictionary \"\"\"\n",
        "    return [dictionary[word] if word in dictionary else 0 for word in words]\n",
        "\n",
        "def generate_sample(index_words, context_window_size):\n",
        "    \"\"\" Form training pairs according to the skip-gram model. \"\"\"\n",
        "    for index, center in enumerate(index_words):\n",
        "        context = random.randint(1, context_window_size)\n",
        "        # get a random target before the center word\n",
        "        for target in index_words[max(0, index - context): index]:\n",
        "            yield center, target\n",
        "        # get a random target after the center wrod\n",
        "        for target in index_words[index + 1: index + context + 1]:\n",
        "            yield center, target\n",
        "\n",
        "def get_batch(iterator, batch_size):\n",
        "    \"\"\" Group a numerical stream into batches and yield them as Numpy arrays. \"\"\"\n",
        "    while True:\n",
        "        center_batch = np.zeros(batch_size, dtype=np.int32)\n",
        "        target_batch = np.zeros([batch_size, 1])\n",
        "        for index in range(batch_size):\n",
        "            center_batch[index], target_batch[index] = next(iterator)\n",
        "        yield center_batch, target_batch\n",
        "\n",
        "def process_data(vocab_size, batch_size, skip_window):\n",
        "#     file_path = download(FILE_NAME, EXPECTED_BYTES)\n",
        "    file_path = DATA_FOLDER + FILE_NAME\n",
        "    words = read_data(file_path)\n",
        "    dictionary, _ = build_vocab(words, vocab_size)\n",
        "    index_words = convert_words_to_index(words, dictionary)\n",
        "    del words # to save memory\n",
        "    single_gen = generate_sample(index_words, skip_window)\n",
        "    return get_batch(single_gen, batch_size)\n",
        "\n",
        "def get_index_vocab(vocab_size):\n",
        "    file_path = download(FILE_NAME, EXPECTED_BYTES)\n",
        "    words = read_data(file_path)\n",
        "    return build_vocab(words, vocab_size)"
      ],
      "execution_count": 0,
      "outputs": []
    },
    {
      "metadata": {
        "id": "Lj-BHz72hXPs",
        "colab_type": "code",
        "colab": {
          "base_uri": "https://localhost:8080/",
          "height": 1170
        },
        "outputId": "6fe791f7-823e-4001-e943-e6f36fb494e9"
      },
      "cell_type": "code",
      "source": [
        "import os\n",
        "os.environ['TF_CPP_MIN_LOG_LEVEL'] = '2'\n",
        "\n",
        "import numpy as np\n",
        "from tensorflow.contrib.tensorboard.plugins import projector\n",
        "import tensorflow as tf\n",
        "\n",
        "\n",
        "# Model hyperparameters\n",
        "VOCAB_SIZE = 50000\n",
        "BATCH_SIZE = 128\n",
        "EMBED_SIZE = 128   #Dimension of the word embedding vector\n",
        "SKIP_WINDOW = 1    #the context window\n",
        "NUM_SAMPLED = 64   #the number of negative examples to sample\n",
        "LEARNING_RATE = 1.0\n",
        "NUM_TRAIN_STEPS = 20000\n",
        "VISUAL_FLD = 'visualization'\n",
        "SKIP_STEP = 2000\n",
        "\n",
        "# Paramaters for downloading data\n",
        "NUM_VISUALIZE = 3000    # number of tokens to visualize\n",
        "\n",
        "def word2vec(batch_gen):\n",
        "    \"\"\" Build the graph for word2vec model and train it\"\"\"\n",
        "    # step 1 : get the input, output from the dataset\n",
        "    context_words = tf.placeholder(dtype = tf.int32, shape = [BATCH_SIZE], name = 'context_words')\n",
        "    target_words = tf.placeholder(dtype = tf.int32, shape = [BATCH_SIZE, 1], name = 'target_words')\n",
        "\n",
        "    # Step 2 and 3: define the Weights and derive the inference\n",
        "    # the dimensions of the weight matrix is vocab_size * embed_size\n",
        "    \n",
        "    embed_matrix = tf.get_variable(name = 'embed_matrix', shape = [VOCAB_SIZE, EMBED_SIZE], initializer = tf.random_uniform_initializer(minval = -1.0, maxval = 1.0))\n",
        "    embed = tf.nn.embedding_lookup(embed_matrix, context_words, name = 'embedding')\n",
        "        \n",
        "    # Step 4: compute the NCE loss using the sample of the negative labels each time.\n",
        "    with tf.name_scope('loss'):\n",
        "        nce_weight = tf.get_variable('nce_weight', shape = [VOCAB_SIZE, EMBED_SIZE], initializer = tf.truncated_normal_initializer(stddev = 1.0 / (EMBED_SIZE ** 0.5)))\n",
        "        nce_bias = tf.get_variable('nce_bias', initializer = tf.zeros([VOCAB_SIZE]))\n",
        "        \n",
        "        # define the loss funcitno to be the NCE loss\n",
        "        loss = tf.reduce_mean(tf.nn.nce_loss(weights = nce_weight, biases = nce_bias, labels = target_words, inputs = embed, num_sampled = NUM_SAMPLED, num_classes = VOCAB_SIZE), name = 'loss')\n",
        "        \n",
        "    # Step 5: define the optimizer\n",
        "    with tf.name_scope('optimizer'):\n",
        "        optimizer = tf.train.GradientDescentOptimizer(LEARNING_RATE).minimize(loss)\n",
        "        \n",
        "    safe_mkdir('checkpoints')\n",
        "    \n",
        "    with tf.Session() as sess:\n",
        "        sess.run(tf.global_variables_initializer())\n",
        "        \n",
        "        total_loss = 0.0 # we use this to calculate the average loss in the last SKIP_STEP steps\n",
        "        writer = tf.summary.FileWriter('./graphs/no_frills/', sess.graph)\n",
        "        for index in range(NUM_TRAIN_STEPS):\n",
        "            centers, targets = next(batch_gen)\n",
        "            feed_dict = {context_words : centers, target_words : targets}\n",
        "            _, loss_batch = sess.run([optimizer, loss], feed_dict = feed_dict)\n",
        "            \n",
        "            total_loss += loss_batch\n",
        "            \n",
        "            if (index + 1) % SKIP_STEP == 0:\n",
        "                print('Average loss at step {}: {:5.1f}'.format(index, total_loss / SKIP_STEP))\n",
        "                total_loss = 0.0\n",
        "        writer.close()\n",
        "\n",
        "def main():\n",
        "    batch_gen = process_data(VOCAB_SIZE, BATCH_SIZE, SKIP_WINDOW)\n",
        "#     print(next(batch_gen))\n",
        "    word2vec(batch_gen)\n",
        "    \n",
        "if __name__ == '__main__':\n",
        "    main()"
      ],
      "execution_count": 56,
      "outputs": [
        {
          "output_type": "error",
          "ename": "ValueError",
          "evalue": "ignored",
          "traceback": [
            "\u001b[0;31m---------------------------------------------------------------------------\u001b[0m",
            "\u001b[0;31mValueError\u001b[0m                                Traceback (most recent call last)",
            "\u001b[0;32m<ipython-input-56-ec7ecb804832>\u001b[0m in \u001b[0;36m<module>\u001b[0;34m()\u001b[0m\n\u001b[1;32m     70\u001b[0m \u001b[0;34m\u001b[0m\u001b[0m\n\u001b[1;32m     71\u001b[0m \u001b[0;32mif\u001b[0m \u001b[0m__name__\u001b[0m \u001b[0;34m==\u001b[0m \u001b[0;34m'__main__'\u001b[0m\u001b[0;34m:\u001b[0m\u001b[0;34m\u001b[0m\u001b[0;34m\u001b[0m\u001b[0m\n\u001b[0;32m---> 72\u001b[0;31m     \u001b[0mmain\u001b[0m\u001b[0;34m(\u001b[0m\u001b[0;34m)\u001b[0m\u001b[0;34m\u001b[0m\u001b[0;34m\u001b[0m\u001b[0m\n\u001b[0m",
            "\u001b[0;32m<ipython-input-56-ec7ecb804832>\u001b[0m in \u001b[0;36mmain\u001b[0;34m()\u001b[0m\n\u001b[1;32m     67\u001b[0m     \u001b[0mbatch_gen\u001b[0m \u001b[0;34m=\u001b[0m \u001b[0mprocess_data\u001b[0m\u001b[0;34m(\u001b[0m\u001b[0mVOCAB_SIZE\u001b[0m\u001b[0;34m,\u001b[0m \u001b[0mBATCH_SIZE\u001b[0m\u001b[0;34m,\u001b[0m \u001b[0mSKIP_WINDOW\u001b[0m\u001b[0;34m)\u001b[0m\u001b[0;34m\u001b[0m\u001b[0;34m\u001b[0m\u001b[0m\n\u001b[1;32m     68\u001b[0m \u001b[0;31m#     print(next(batch_gen))\u001b[0m\u001b[0;34m\u001b[0m\u001b[0;34m\u001b[0m\u001b[0;34m\u001b[0m\u001b[0m\n\u001b[0;32m---> 69\u001b[0;31m     \u001b[0mword2vec\u001b[0m\u001b[0;34m(\u001b[0m\u001b[0mbatch_gen\u001b[0m\u001b[0;34m)\u001b[0m\u001b[0;34m\u001b[0m\u001b[0;34m\u001b[0m\u001b[0m\n\u001b[0m\u001b[1;32m     70\u001b[0m \u001b[0;34m\u001b[0m\u001b[0m\n\u001b[1;32m     71\u001b[0m \u001b[0;32mif\u001b[0m \u001b[0m__name__\u001b[0m \u001b[0;34m==\u001b[0m \u001b[0;34m'__main__'\u001b[0m\u001b[0;34m:\u001b[0m\u001b[0;34m\u001b[0m\u001b[0;34m\u001b[0m\u001b[0m\n",
            "\u001b[0;32m<ipython-input-56-ec7ecb804832>\u001b[0m in \u001b[0;36mword2vec\u001b[0;34m(batch_gen)\u001b[0m\n\u001b[1;32m     30\u001b[0m     \u001b[0;31m# the dimensions of the weight matrix is vocab_size * embed_size\u001b[0m\u001b[0;34m\u001b[0m\u001b[0;34m\u001b[0m\u001b[0;34m\u001b[0m\u001b[0m\n\u001b[1;32m     31\u001b[0m \u001b[0;34m\u001b[0m\u001b[0m\n\u001b[0;32m---> 32\u001b[0;31m     \u001b[0membed_matrix\u001b[0m \u001b[0;34m=\u001b[0m \u001b[0mtf\u001b[0m\u001b[0;34m.\u001b[0m\u001b[0mget_variable\u001b[0m\u001b[0;34m(\u001b[0m\u001b[0mname\u001b[0m \u001b[0;34m=\u001b[0m \u001b[0;34m'embed_matrix'\u001b[0m\u001b[0;34m,\u001b[0m \u001b[0mshape\u001b[0m \u001b[0;34m=\u001b[0m \u001b[0;34m[\u001b[0m\u001b[0mVOCAB_SIZE\u001b[0m\u001b[0;34m,\u001b[0m \u001b[0mEMBED_SIZE\u001b[0m\u001b[0;34m]\u001b[0m\u001b[0;34m,\u001b[0m \u001b[0minitializer\u001b[0m \u001b[0;34m=\u001b[0m \u001b[0mtf\u001b[0m\u001b[0;34m.\u001b[0m\u001b[0mrandom_uniform_initializer\u001b[0m\u001b[0;34m(\u001b[0m\u001b[0mminval\u001b[0m \u001b[0;34m=\u001b[0m \u001b[0;34m-\u001b[0m\u001b[0;36m1.0\u001b[0m\u001b[0;34m,\u001b[0m \u001b[0mmaxval\u001b[0m \u001b[0;34m=\u001b[0m \u001b[0;36m1.0\u001b[0m\u001b[0;34m)\u001b[0m\u001b[0;34m)\u001b[0m\u001b[0;34m\u001b[0m\u001b[0;34m\u001b[0m\u001b[0m\n\u001b[0m\u001b[1;32m     33\u001b[0m     \u001b[0membed\u001b[0m \u001b[0;34m=\u001b[0m \u001b[0mtf\u001b[0m\u001b[0;34m.\u001b[0m\u001b[0mnn\u001b[0m\u001b[0;34m.\u001b[0m\u001b[0membedding_lookup\u001b[0m\u001b[0;34m(\u001b[0m\u001b[0membed_matrix\u001b[0m\u001b[0;34m,\u001b[0m \u001b[0mcontext_words\u001b[0m\u001b[0;34m,\u001b[0m \u001b[0mname\u001b[0m \u001b[0;34m=\u001b[0m \u001b[0;34m'embedding'\u001b[0m\u001b[0;34m)\u001b[0m\u001b[0;34m\u001b[0m\u001b[0;34m\u001b[0m\u001b[0m\n\u001b[1;32m     34\u001b[0m \u001b[0;34m\u001b[0m\u001b[0m\n",
            "\u001b[0;32m/usr/local/lib/python3.6/dist-packages/tensorflow/python/ops/variable_scope.py\u001b[0m in \u001b[0;36mget_variable\u001b[0;34m(name, shape, dtype, initializer, regularizer, trainable, collections, caching_device, partitioner, validate_shape, use_resource, custom_getter, constraint, synchronization, aggregation)\u001b[0m\n\u001b[1;32m   1477\u001b[0m       \u001b[0mconstraint\u001b[0m\u001b[0;34m=\u001b[0m\u001b[0mconstraint\u001b[0m\u001b[0;34m,\u001b[0m\u001b[0;34m\u001b[0m\u001b[0;34m\u001b[0m\u001b[0m\n\u001b[1;32m   1478\u001b[0m       \u001b[0msynchronization\u001b[0m\u001b[0;34m=\u001b[0m\u001b[0msynchronization\u001b[0m\u001b[0;34m,\u001b[0m\u001b[0;34m\u001b[0m\u001b[0;34m\u001b[0m\u001b[0m\n\u001b[0;32m-> 1479\u001b[0;31m       aggregation=aggregation)\n\u001b[0m\u001b[1;32m   1480\u001b[0m \u001b[0;34m\u001b[0m\u001b[0m\n\u001b[1;32m   1481\u001b[0m \u001b[0;34m\u001b[0m\u001b[0m\n",
            "\u001b[0;32m/usr/local/lib/python3.6/dist-packages/tensorflow/python/ops/variable_scope.py\u001b[0m in \u001b[0;36mget_variable\u001b[0;34m(self, var_store, name, shape, dtype, initializer, regularizer, reuse, trainable, collections, caching_device, partitioner, validate_shape, use_resource, custom_getter, constraint, synchronization, aggregation)\u001b[0m\n\u001b[1;32m   1218\u001b[0m           \u001b[0mconstraint\u001b[0m\u001b[0;34m=\u001b[0m\u001b[0mconstraint\u001b[0m\u001b[0;34m,\u001b[0m\u001b[0;34m\u001b[0m\u001b[0;34m\u001b[0m\u001b[0m\n\u001b[1;32m   1219\u001b[0m           \u001b[0msynchronization\u001b[0m\u001b[0;34m=\u001b[0m\u001b[0msynchronization\u001b[0m\u001b[0;34m,\u001b[0m\u001b[0;34m\u001b[0m\u001b[0;34m\u001b[0m\u001b[0m\n\u001b[0;32m-> 1220\u001b[0;31m           aggregation=aggregation)\n\u001b[0m\u001b[1;32m   1221\u001b[0m \u001b[0;34m\u001b[0m\u001b[0m\n\u001b[1;32m   1222\u001b[0m   def _get_partitioned_variable(self,\n",
            "\u001b[0;32m/usr/local/lib/python3.6/dist-packages/tensorflow/python/ops/variable_scope.py\u001b[0m in \u001b[0;36mget_variable\u001b[0;34m(self, name, shape, dtype, initializer, regularizer, reuse, trainable, collections, caching_device, partitioner, validate_shape, use_resource, custom_getter, constraint, synchronization, aggregation)\u001b[0m\n\u001b[1;32m    545\u001b[0m           \u001b[0mconstraint\u001b[0m\u001b[0;34m=\u001b[0m\u001b[0mconstraint\u001b[0m\u001b[0;34m,\u001b[0m\u001b[0;34m\u001b[0m\u001b[0;34m\u001b[0m\u001b[0m\n\u001b[1;32m    546\u001b[0m           \u001b[0msynchronization\u001b[0m\u001b[0;34m=\u001b[0m\u001b[0msynchronization\u001b[0m\u001b[0;34m,\u001b[0m\u001b[0;34m\u001b[0m\u001b[0;34m\u001b[0m\u001b[0m\n\u001b[0;32m--> 547\u001b[0;31m           aggregation=aggregation)\n\u001b[0m\u001b[1;32m    548\u001b[0m \u001b[0;34m\u001b[0m\u001b[0m\n\u001b[1;32m    549\u001b[0m   def _get_partitioned_variable(self,\n",
            "\u001b[0;32m/usr/local/lib/python3.6/dist-packages/tensorflow/python/ops/variable_scope.py\u001b[0m in \u001b[0;36m_true_getter\u001b[0;34m(name, shape, dtype, initializer, regularizer, reuse, trainable, collections, caching_device, partitioner, validate_shape, use_resource, constraint, synchronization, aggregation)\u001b[0m\n\u001b[1;32m    497\u001b[0m           \u001b[0mconstraint\u001b[0m\u001b[0;34m=\u001b[0m\u001b[0mconstraint\u001b[0m\u001b[0;34m,\u001b[0m\u001b[0;34m\u001b[0m\u001b[0;34m\u001b[0m\u001b[0m\n\u001b[1;32m    498\u001b[0m           \u001b[0msynchronization\u001b[0m\u001b[0;34m=\u001b[0m\u001b[0msynchronization\u001b[0m\u001b[0;34m,\u001b[0m\u001b[0;34m\u001b[0m\u001b[0;34m\u001b[0m\u001b[0m\n\u001b[0;32m--> 499\u001b[0;31m           aggregation=aggregation)\n\u001b[0m\u001b[1;32m    500\u001b[0m \u001b[0;34m\u001b[0m\u001b[0m\n\u001b[1;32m    501\u001b[0m     \u001b[0;31m# Set trainable value based on synchronization value.\u001b[0m\u001b[0;34m\u001b[0m\u001b[0;34m\u001b[0m\u001b[0;34m\u001b[0m\u001b[0m\n",
            "\u001b[0;32m/usr/local/lib/python3.6/dist-packages/tensorflow/python/ops/variable_scope.py\u001b[0m in \u001b[0;36m_get_single_variable\u001b[0;34m(self, name, shape, dtype, initializer, regularizer, partition_info, reuse, trainable, collections, caching_device, validate_shape, use_resource, constraint, synchronization, aggregation)\u001b[0m\n\u001b[1;32m    846\u001b[0m         \u001b[0mtb\u001b[0m \u001b[0;34m=\u001b[0m \u001b[0;34m[\u001b[0m\u001b[0mx\u001b[0m \u001b[0;32mfor\u001b[0m \u001b[0mx\u001b[0m \u001b[0;32min\u001b[0m \u001b[0mtb\u001b[0m \u001b[0;32mif\u001b[0m \u001b[0;34m\"tensorflow/python\"\u001b[0m \u001b[0;32mnot\u001b[0m \u001b[0;32min\u001b[0m \u001b[0mx\u001b[0m\u001b[0;34m[\u001b[0m\u001b[0;36m0\u001b[0m\u001b[0;34m]\u001b[0m\u001b[0;34m]\u001b[0m\u001b[0;34m[\u001b[0m\u001b[0;34m:\u001b[0m\u001b[0;36m3\u001b[0m\u001b[0;34m]\u001b[0m\u001b[0;34m\u001b[0m\u001b[0;34m\u001b[0m\u001b[0m\n\u001b[1;32m    847\u001b[0m         raise ValueError(\"%s Originally defined at:\\n\\n%s\" % (err_msg, \"\".join(\n\u001b[0;32m--> 848\u001b[0;31m             traceback.format_list(tb))))\n\u001b[0m\u001b[1;32m    849\u001b[0m       \u001b[0mfound_var\u001b[0m \u001b[0;34m=\u001b[0m \u001b[0mself\u001b[0m\u001b[0;34m.\u001b[0m\u001b[0m_vars\u001b[0m\u001b[0;34m[\u001b[0m\u001b[0mname\u001b[0m\u001b[0;34m]\u001b[0m\u001b[0;34m\u001b[0m\u001b[0;34m\u001b[0m\u001b[0m\n\u001b[1;32m    850\u001b[0m       \u001b[0;32mif\u001b[0m \u001b[0;32mnot\u001b[0m \u001b[0mshape\u001b[0m\u001b[0;34m.\u001b[0m\u001b[0mis_compatible_with\u001b[0m\u001b[0;34m(\u001b[0m\u001b[0mfound_var\u001b[0m\u001b[0;34m.\u001b[0m\u001b[0mget_shape\u001b[0m\u001b[0;34m(\u001b[0m\u001b[0;34m)\u001b[0m\u001b[0;34m)\u001b[0m\u001b[0;34m:\u001b[0m\u001b[0;34m\u001b[0m\u001b[0;34m\u001b[0m\u001b[0m\n",
            "\u001b[0;31mValueError\u001b[0m: Variable embed_matrix already exists, disallowed. Did you mean to set reuse=True or reuse=tf.AUTO_REUSE in VarScope? Originally defined at:\n\n  File \"<ipython-input-45-d290407a597b>\", line 34, in word2vec\n    embed_matrix = tf.get_variable(name = 'embed_matrix', shape = [VOCAB_SIZE, EMBED_SIZE], initializer = tf.random_uniform_initializer(minval = -1.0, maxval = 1.0))\n  File \"<ipython-input-45-d290407a597b>\", line 70, in main\n    word2vec(batch_gen)\n  File \"<ipython-input-45-d290407a597b>\", line 73, in <module>\n    main()\n"
          ]
        }
      ]
    },
    {
      "metadata": {
        "id": "5CkOMchFG_Ck",
        "colab_type": "code",
        "colab": {
          "base_uri": "https://localhost:8080/",
          "height": 224
        },
        "outputId": "fcb68a74-f8e2-4419-807d-38ccdfb67d65"
      },
      "cell_type": "code",
      "source": [
        "!wget http://mattmahoney.net/dc/text8.zip"
      ],
      "execution_count": 36,
      "outputs": [
        {
          "output_type": "stream",
          "text": [
            "--2019-02-15 12:51:03--  http://mattmahoney.net/dc/text8.zip\n",
            "Resolving mattmahoney.net (mattmahoney.net)... 67.195.197.75\n",
            "Connecting to mattmahoney.net (mattmahoney.net)|67.195.197.75|:80... connected.\n",
            "HTTP request sent, awaiting response... 200 OK\n",
            "Length: 31344016 (30M) [application/zip]\n",
            "Saving to: ‘text8.zip’\n",
            "\n",
            "text8.zip           100%[===================>]  29.89M   858KB/s    in 36s     \n",
            "\n",
            "2019-02-15 12:51:39 (849 KB/s) - ‘text8.zip’ saved [31344016/31344016]\n",
            "\n"
          ],
          "name": "stdout"
        }
      ]
    }
  ]
}