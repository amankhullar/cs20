{
  "nbformat": 4,
  "nbformat_minor": 0,
  "metadata": {
    "colab": {
      "name": "Assignment1.ipynb",
      "version": "0.3.2",
      "provenance": [],
      "collapsed_sections": [],
      "include_colab_link": true
    },
    "kernelspec": {
      "name": "python3",
      "display_name": "Python 3"
    }
  },
  "cells": [
    {
      "cell_type": "markdown",
      "metadata": {
        "id": "view-in-github",
        "colab_type": "text"
      },
      "source": [
        "<a href=\"https://colab.research.google.com/github/amankhullar/cs20/blob/master/Assignment1.ipynb\" target=\"_parent\"><img src=\"https://colab.research.google.com/assets/colab-badge.svg\" alt=\"Open In Colab\"/></a>"
      ]
    },
    {
      "metadata": {
        "id": "vqr_p3mEyKG7",
        "colab_type": "text"
      },
      "cell_type": "markdown",
      "source": [
        "<center> <h1> CS20 Assignment 1 </h1> </center>\n",
        "## Problem 1\n",
        "\n"
      ]
    },
    {
      "metadata": {
        "id": "nOhCzXVAyAqy",
        "colab_type": "code",
        "colab": {
          "base_uri": "https://localhost:8080/",
          "height": 71
        },
        "outputId": "7ec3c50b-0dbf-420c-8e08-3a18df23cb11"
      },
      "cell_type": "code",
      "source": [
        "import numpy as np\n",
        "import os\n",
        "os.environ['TF_CPP_MIN_LOG_LEVL'] = '2'\n",
        "\n",
        "import tensorflow as tf\n",
        "\n",
        "sess = tf.InteractiveSession()"
      ],
      "execution_count": 9,
      "outputs": [
        {
          "output_type": "stream",
          "text": [
            "/usr/local/lib/python3.6/dist-packages/tensorflow/python/client/session.py:1702: UserWarning: An interactive session is already active. This can cause out-of-memory errors in some cases. You must explicitly call `InteractiveSession.close()` to release resources held by the other session(s).\n",
            "  warnings.warn('An interactive session is already active. This can '\n"
          ],
          "name": "stderr"
        }
      ]
    },
    {
      "metadata": {
        "id": "JQ3Tq1rC-haq",
        "colab_type": "code",
        "outputId": "09472db7-3b18-4f89-b4ca-8f26e8d23ad0",
        "colab": {
          "base_uri": "https://localhost:8080/",
          "height": 34
        }
      },
      "cell_type": "code",
      "source": [
        "sess = tf.InteractiveSession()\n",
        "\n",
        "x = tf.random_uniform([])\n",
        "y = tf.random_uniform([])\n",
        "\n",
        "op = tf.cond(x > y, lambda : x + y, lambda : x - y)\n",
        "\n",
        "print(sess.run(op))"
      ],
      "execution_count": 0,
      "outputs": [
        {
          "output_type": "stream",
          "text": [
            "1.1196562\n"
          ],
          "name": "stdout"
        }
      ]
    },
    {
      "metadata": {
        "id": "1gAl0OujIZcy",
        "colab_type": "code",
        "outputId": "69f80e7b-73a1-4c97-ed2e-25a4a4685c09",
        "colab": {
          "base_uri": "https://localhost:8080/",
          "height": 34
        }
      },
      "cell_type": "code",
      "source": [
        "x = tf.random_uniform(shape = [], minval = -1, maxval = 1, name = \"x\")\n",
        "y = tf.random_uniform(shape = [], minval = -1, maxval = 1, name = \"y\")\n",
        "\n",
        "# Using a tf.Tensor as a Python 'bool' is not allowed\n",
        "# out = tf.zeros(shape = [1])\n",
        "\n",
        "# if tf.less(x, y):\n",
        "#     out = x + y\n",
        "# elif tf.greater(x, y):\n",
        "#     out = x - y\n",
        "# else:\n",
        "#     out = 0\n",
        "    \n",
        "def f1():\n",
        "    return x + y\n",
        "\n",
        "def f2():\n",
        "    return x - y\n",
        "\n",
        "def f3():\n",
        "    return tf.zeros(shape = [1])\n",
        "\n",
        "out = tf.case({tf.less(x, y) : f1, tf.greater(x, y) : f2}, default = f3, name = 'output', exclusive = True)\n",
        "print(sess.run(out))"
      ],
      "execution_count": 0,
      "outputs": [
        {
          "output_type": "stream",
          "text": [
            "0.27322483\n"
          ],
          "name": "stdout"
        }
      ]
    },
    {
      "metadata": {
        "id": "L9Bxa4-OK8Fq",
        "colab_type": "code",
        "outputId": "fb99d183-4322-4f4a-a3e7-95b905274ecd",
        "colab": {
          "base_uri": "https://localhost:8080/",
          "height": 51
        }
      },
      "cell_type": "code",
      "source": [
        "x = tf.constant([[0, -2, -1], [0, 1, 2]])\n",
        "y = tf.zeros_like(x)\n",
        "\n",
        "out = tf.equal(x, y, name = 'equal_output')\n",
        "\n",
        "print(sess.run(out))"
      ],
      "execution_count": 0,
      "outputs": [
        {
          "output_type": "stream",
          "text": [
            "[[ True False False]\n",
            " [ True False False]]\n"
          ],
          "name": "stdout"
        }
      ]
    },
    {
      "metadata": {
        "id": "4v-aBXgFXN6q",
        "colab_type": "code",
        "colab": {
          "base_uri": "https://localhost:8080/",
          "height": 170
        },
        "outputId": "985a1178-bb62-4352-db72-b4e2b81dffd5"
      },
      "cell_type": "code",
      "source": [
        "sess = tf.InteractiveSession()\n",
        "\n",
        "data = tf.constant([29.05088806,  27.61298943,  31.19073486,  29.35532951,\n",
        "                     30.97266006,  26.67541885,  38.08450317,  20.74983215,\n",
        "                     34.94445419,  34.45999146,  29.06485367,  36.01657104,\n",
        "                     27.88236427,  20.56035233,  30.20379066,  29.51215172,\n",
        "                     33.71149445,  28.59134293,  36.05556488,  28.66994858])\n",
        "\n",
        "out = tf.gather(data, tf.where(tf.greater(data, 30)))\n",
        "\n",
        "print(sess.run(out))"
      ],
      "execution_count": 3,
      "outputs": [
        {
          "output_type": "stream",
          "text": [
            "[[31.190735]\n",
            " [30.97266 ]\n",
            " [38.084503]\n",
            " [34.944454]\n",
            " [34.45999 ]\n",
            " [36.01657 ]\n",
            " [30.20379 ]\n",
            " [33.711494]\n",
            " [36.055565]]\n"
          ],
          "name": "stdout"
        }
      ]
    },
    {
      "metadata": {
        "id": "_u0teeS3Rwq5",
        "colab_type": "code",
        "colab": {
          "base_uri": "https://localhost:8080/",
          "height": 119
        },
        "outputId": "0015d7d6-d933-4fc8-fb56-eb84280c0344"
      },
      "cell_type": "code",
      "source": [
        "# Numpy method of creating the diagonal matrix\n",
        "\n",
        "# data = np.arange(1,7)\n",
        "# out = np.diag(data)\n",
        "\n",
        "# out_tf = tf.constant(out)\n",
        "\n",
        "# print(sess.run(out_tf))\n",
        "\n",
        "#Tensorflow method\n",
        "\n",
        "data = tf.range(start = 1, limit = 7, name = 'range')\n",
        "out = tf.linalg.diag(data, name = 'diagonal')\n",
        "\n",
        "print(sess.run(out))"
      ],
      "execution_count": 6,
      "outputs": [
        {
          "output_type": "stream",
          "text": [
            "[[1 0 0 0 0 0]\n",
            " [0 2 0 0 0 0]\n",
            " [0 0 3 0 0 0]\n",
            " [0 0 0 4 0 0]\n",
            " [0 0 0 0 5 0]\n",
            " [0 0 0 0 0 6]]\n"
          ],
          "name": "stdout"
        }
      ]
    },
    {
      "metadata": {
        "id": "dxSajqtAXKmN",
        "colab_type": "code",
        "colab": {
          "base_uri": "https://localhost:8080/",
          "height": 34
        },
        "outputId": "17a22d97-89de-4740-8590-92be303a1ac6"
      },
      "cell_type": "code",
      "source": [
        "data = tf.random_normal(shape = [10, 10], name = 'matrix')\n",
        "\n",
        "out = tf.matrix_determinant(data, name = 'determinant')\n",
        "\n",
        "print(sess.run(out))"
      ],
      "execution_count": 7,
      "outputs": [
        {
          "output_type": "stream",
          "text": [
            "-66.201225\n"
          ],
          "name": "stdout"
        }
      ]
    },
    {
      "metadata": {
        "id": "wSKrj871ZKo_",
        "colab_type": "code",
        "colab": {
          "base_uri": "https://localhost:8080/",
          "height": 34
        },
        "outputId": "9c496709-83c1-4988-806c-98f4a3c92c27"
      },
      "cell_type": "code",
      "source": [
        "x = tf.constant([5, 2, 3, 5, 10, 6, 2, 3, 4, 2, 1, 1, 0, 9])\n",
        "\n",
        "out, idx = tf.unique(x)\n",
        "\n",
        "print(sess.run(out))"
      ],
      "execution_count": 8,
      "outputs": [
        {
          "output_type": "stream",
          "text": [
            "[ 5  2  3 10  6  4  1  0  9]\n"
          ],
          "name": "stdout"
        }
      ]
    },
    {
      "metadata": {
        "id": "YYYVD65hrYwg",
        "colab_type": "code",
        "colab": {
          "base_uri": "https://localhost:8080/",
          "height": 34
        },
        "outputId": "defc6a5e-4fc9-43bb-87d5-8e745d54c3e3"
      },
      "cell_type": "code",
      "source": [
        "x = tf.random_normal(shape = [300], name = 'x')\n",
        "y = tf.random_normal(shape = [300], name = 'y')\n",
        "\n",
        "out = tf.cond(tf.reduce_mean(x - y) < 0, lambda : tf.losses.mean_squared_error(labels = x, predictions = y), lambda : tf.reduce_sum(tf.abs(x - y)))\n",
        "\n",
        "print(sess.run(out))"
      ],
      "execution_count": 10,
      "outputs": [
        {
          "output_type": "stream",
          "text": [
            "2.150824\n"
          ],
          "name": "stdout"
        }
      ]
    }
  ]
}