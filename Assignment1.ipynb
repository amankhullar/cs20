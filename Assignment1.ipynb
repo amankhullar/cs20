{
  "nbformat": 4,
  "nbformat_minor": 0,
  "metadata": {
    "colab": {
      "name": "Assignment1.ipynb",
      "version": "0.3.2",
      "provenance": [],
      "include_colab_link": true
    },
    "kernelspec": {
      "name": "python3",
      "display_name": "Python 3"
    }
  },
  "cells": [
    {
      "cell_type": "markdown",
      "metadata": {
        "id": "view-in-github",
        "colab_type": "text"
      },
      "source": [
        "<a href=\"https://colab.research.google.com/github/amankhullar/cs20/blob/master/Assignment1.ipynb\" target=\"_parent\"><img src=\"https://colab.research.google.com/assets/colab-badge.svg\" alt=\"Open In Colab\"/></a>"
      ]
    },
    {
      "metadata": {
        "id": "vqr_p3mEyKG7",
        "colab_type": "text"
      },
      "cell_type": "markdown",
      "source": [
        "<center> <h1> CS20 Assignment 1 </h1> </center>\n",
        "## Problem 1\n",
        "\n"
      ]
    },
    {
      "metadata": {
        "id": "nOhCzXVAyAqy",
        "colab_type": "code",
        "outputId": "ece01e9a-67e3-4fea-c741-6c0224ffbed6",
        "colab": {
          "base_uri": "https://localhost:8080/",
          "height": 34
        }
      },
      "cell_type": "code",
      "source": [
        "import numpy as np\n",
        "import os\n",
        "os.environ['TF_CPP_MIN_LOG_LEVL'] = '2'\n",
        "\n",
        "import tensorflow as tf\n",
        "\n",
        "sess = tf.InteractiveSession()\n",
        "\n",
        "x = tf.random_uniform([])\n",
        "y = tf.random_uniform([])\n",
        "\n",
        "op = tf.cond(x > y, lambda : x + y, lambda : x - y)\n",
        "\n",
        "print(sess.run(op))"
      ],
      "execution_count": 0,
      "outputs": [
        {
          "output_type": "stream",
          "text": [
            "-0.13544238\n"
          ],
          "name": "stdout"
        }
      ]
    },
    {
      "metadata": {
        "id": "JQ3Tq1rC-haq",
        "colab_type": "code",
        "colab": {}
      },
      "cell_type": "code",
      "source": [
        ""
      ],
      "execution_count": 0,
      "outputs": []
    }
  ]
}