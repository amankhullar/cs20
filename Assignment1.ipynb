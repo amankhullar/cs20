{
  "nbformat": 4,
  "nbformat_minor": 0,
  "metadata": {
    "colab": {
      "name": "Assignment1.ipynb",
      "version": "0.3.2",
      "provenance": [],
      "collapsed_sections": [],
      "include_colab_link": true
    },
    "kernelspec": {
      "name": "python3",
      "display_name": "Python 3"
    }
  },
  "cells": [
    {
      "cell_type": "markdown",
      "metadata": {
        "id": "view-in-github",
        "colab_type": "text"
      },
      "source": [
        "<a href=\"https://colab.research.google.com/github/amankhullar/cs20/blob/master/Assignment1.ipynb\" target=\"_parent\"><img src=\"https://colab.research.google.com/assets/colab-badge.svg\" alt=\"Open In Colab\"/></a>"
      ]
    },
    {
      "metadata": {
        "id": "vqr_p3mEyKG7",
        "colab_type": "text"
      },
      "cell_type": "markdown",
      "source": [
        "<center> <h1> CS20 Assignment 1 </h1> </center>\n",
        "## Problem 1\n",
        "\n"
      ]
    },
    {
      "metadata": {
        "id": "nOhCzXVAyAqy",
        "colab_type": "code",
        "colab": {}
      },
      "cell_type": "code",
      "source": [
        "import numpy as np\n",
        "import os\n",
        "os.environ['TF_CPP_MIN_LOG_LEVL'] = '2'\n",
        "\n",
        "import tensorflow as tf"
      ],
      "execution_count": 0,
      "outputs": []
    },
    {
      "metadata": {
        "id": "JQ3Tq1rC-haq",
        "colab_type": "code",
        "outputId": "09472db7-3b18-4f89-b4ca-8f26e8d23ad0",
        "colab": {
          "base_uri": "https://localhost:8080/",
          "height": 34
        }
      },
      "cell_type": "code",
      "source": [
        "sess = tf.InteractiveSession()\n",
        "\n",
        "x = tf.random_uniform([])\n",
        "y = tf.random_uniform([])\n",
        "\n",
        "op = tf.cond(x > y, lambda : x + y, lambda : x - y)\n",
        "\n",
        "print(sess.run(op))"
      ],
      "execution_count": 2,
      "outputs": [
        {
          "output_type": "stream",
          "text": [
            "1.1196562\n"
          ],
          "name": "stdout"
        }
      ]
    },
    {
      "metadata": {
        "id": "1gAl0OujIZcy",
        "colab_type": "code",
        "outputId": "69f80e7b-73a1-4c97-ed2e-25a4a4685c09",
        "colab": {
          "base_uri": "https://localhost:8080/",
          "height": 34
        }
      },
      "cell_type": "code",
      "source": [
        "x = tf.random_uniform(shape = [], minval = -1, maxval = 1, name = \"x\")\n",
        "y = tf.random_uniform(shape = [], minval = -1, maxval = 1, name = \"y\")\n",
        "\n",
        "# Using a tf.Tensor as a Python 'bool' is not allowed\n",
        "# out = tf.zeros(shape = [1])\n",
        "\n",
        "# if tf.less(x, y):\n",
        "#     out = x + y\n",
        "# elif tf.greater(x, y):\n",
        "#     out = x - y\n",
        "# else:\n",
        "#     out = 0\n",
        "    \n",
        "def f1():\n",
        "    return x + y\n",
        "\n",
        "def f2():\n",
        "    return x - y\n",
        "\n",
        "def f3():\n",
        "    return tf.zeros(shape = [1])\n",
        "\n",
        "out = tf.case({tf.less(x, y) : f1, tf.greater(x, y) : f2}, default = f3, name = 'output', exclusive = True)\n",
        "print(sess.run(out))"
      ],
      "execution_count": 3,
      "outputs": [
        {
          "output_type": "stream",
          "text": [
            "0.27322483\n"
          ],
          "name": "stdout"
        }
      ]
    },
    {
      "metadata": {
        "id": "L9Bxa4-OK8Fq",
        "colab_type": "code",
        "colab": {}
      },
      "cell_type": "code",
      "source": [
        ""
      ],
      "execution_count": 0,
      "outputs": []
    }
  ]
}